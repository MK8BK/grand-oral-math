{
 "cells": [
  {
   "cell_type": "markdown",
   "id": "duplicate-radius",
   "metadata": {},
   "source": [
    "# Grand Oral de Mathematique:"
   ]
  },
  {
   "cell_type": "markdown",
   "id": "bronze-assessment",
   "metadata": {},
   "source": [
    "\n",
    "> **Comment évaluer l'efficacité d'un algorithme ?**\n",
    "\n",
    "\n",
    "> **Introduction:**\n",
    "    >  \n",
    "        Plusieurs algorithmes nous permettent d'effectuer le meme traitement de l'information;  \n",
    "        neanmoins certains sont plus efficaces que d'autres suivant la quantite de donnees a traiter.\n",
    "\n",
    "> **Etude de cas:**\n",
    "    >\n",
    "        Nous cherchons à trier une liste de nombres par ordre croissant  \n",
    "        Nous considérons quatre algorithmes:\n",
    "            1. Bubble Sort\n",
    "            2. Insertion Sort\n",
    "            3. Bogo Sort"
   ]
  },
  {
   "cell_type": "markdown",
   "id": "touched-basement",
   "metadata": {},
   "source": [
    "# Algorithme 1: Bubble Sort"
   ]
  },
  {
   "cell_type": "code",
   "execution_count": 2,
   "id": "recorded-wheat",
   "metadata": {},
   "outputs": [],
   "source": [
    "def bubbleSort(array):\n",
    "    \"\"\"Sort array using Bubble Sort\"\"\"\n",
    "    arr = list(array)\n",
    "    n = len(arr)\n",
    "    for i in range(n-1):\n",
    "        for j in range(0, n-i-1):\n",
    "            if arr[j] > arr[j+1] :\n",
    "                arr[j], arr[j+1] = arr[j+1], arr[j]\n",
    "    return arr"
   ]
  },
  {
   "cell_type": "markdown",
   "id": "special-princess",
   "metadata": {},
   "source": [
    "<img src=\"bubble_sort.gif\" width=\"400px\" height=\"100px\">"
   ]
  },
  {
   "cell_type": "code",
   "execution_count": 3,
   "id": "alternative-starter",
   "metadata": {},
   "outputs": [
    {
     "data": {
      "text/plain": [
       "[2, 68, 79, 200, 1500, 3600]"
      ]
     },
     "execution_count": 3,
     "metadata": {},
     "output_type": "execute_result"
    }
   ],
   "source": [
    "liste_de_nombres = [79,2,3600,1500,200,68]\n",
    "bubbleSort(liste_de_nombres)"
   ]
  },
  {
   "cell_type": "markdown",
   "id": "macro-elephant",
   "metadata": {},
   "source": [
    "**Graphe du temps d'execution**"
   ]
  },
  {
   "cell_type": "code",
   "execution_count": 10,
   "id": "infrared-statistics",
   "metadata": {},
   "outputs": [
    {
     "data": {
      "image/png": "[encoded data removed]",
      "text/plain": [
       "<Figure size 432x288 with 1 Axes>"
      ]
     },
     "metadata": {
      "needs_background": "light"
     },
     "output_type": "display_data"
    }
   ],
   "source": [
    "# from numpy import float64\n",
    "# from time import perf_counter as now\n",
    "# from json import loads\n",
    "# from sys import setrecursionlimit\n",
    "# setrecursionlimit(10**6)\n",
    "\n",
    "# with open(\"numbers.json\",\"r\") as d:\n",
    "#     data = loads(d.read())\n",
    "\n",
    "# bubble_time_list = []\n",
    "\n",
    "# for i in range(2, 10003, 200):\n",
    "#     subdata = data[:i]\n",
    "#     print(i, end=\" | \")\n",
    "#     times_list = []\n",
    "#     for i in range(50):\n",
    "#         bubble_time_start = float64(now())\n",
    "#         bubbleSort(subdata)\n",
    "#         bubble_time_end = float64(now())\n",
    "#         bubble_execution_time = bubble_time_end - bubble_time_start\n",
    "#         times_list.append(bubble_execution_time)\n",
    "    \n",
    "#     bubble_execution_time = sum(times_list)/len(times_list)\n",
    "#     bubble_time_list.append(bubble_execution_time)\n",
    "\n",
    "import matplotlib.pyplot as plt\n",
    "plt.scatter(range(2, 10003,200), bubble_time_list,label=\"bubble\", marker='o',color=\"blue\", s=5)\n",
    "plt.xlabel(\"list length\")\n",
    "plt.ylabel(\"time\")\n",
    "plt.legend()\n",
    "plt.show()"
   ]
  },
  {
   "cell_type": "code",
   "execution_count": 12,
   "id": "solid-underwear",
   "metadata": {},
   "outputs": [
    {
     "data": {
      "image/png": "[encoded data removed]",
      "text/plain": [
       "<Figure size 432x288 with 1 Axes>"
      ]
     },
     "metadata": {
      "needs_background": "light"
     },
     "output_type": "display_data"
    }
   ],
   "source": [
    "derivee_list = []\n",
    "for i, j in enumerate(bubble_time_list[1:-1]):\n",
    "    y1, y1p2 = bubble_time_list[i], bubble_time_list[i+2]\n",
    "    x1, x1p2 = range(2, 10003,200)[i], range(2, 10003,200)[i+2]\n",
    "    derivee = (y1p2 - y1)/(x1p2 - x1)\n",
    "    derivee_list.append(derivee)\n",
    "\n",
    "import matplotlib.pyplot as plt\n",
    "plt.scatter(range(2, 10003,200)[1:-1], derivee_list, label=\"bubble\", marker='o',color=\"blue\", s=5)\n",
    "plt.xlabel(\"list length\")\n",
    "plt.ylabel(\"time\")\n",
    "plt.legend()\n",
    "plt.show()"
   ]
  },
  {
   "cell_type": "code",
   "execution_count": 15,
   "id": "lesser-advocate",
   "metadata": {},
   "outputs": [
    {
     "data": {
      "image/png": "[encoded data removed]",
      "text/plain": [
       "<Figure size 432x288 with 1 Axes>"
      ]
     },
     "metadata": {
      "needs_background": "light"
     },
     "output_type": "display_data"
    }
   ],
   "source": [
    "lnx, lny = [], []\n",
    "from  numpy import log as ln\n",
    "for x,y in zip(range(2, 10003,200),bubble_time_list):\n",
    "    lnx.append(ln(x))\n",
    "    lny.append(ln(y))\n",
    "\n",
    "import matplotlib.pyplot as plt\n",
    "plt.scatter(lnx, lny, label=\"ln\", marker='o',color=\"blue\", s=2)\n",
    "plt.xlabel(\"lnx\")\n",
    "plt.ylabel(\"lny\")\n",
    "plt.legend()\n",
    "plt.show()"
   ]
  },
  {
   "cell_type": "code",
   "execution_count": 18,
   "id": "excellent-brunswick",
   "metadata": {},
   "outputs": [
    {
     "data": {
      "text/plain": [
       "1.9207336594191318"
      ]
     },
     "execution_count": 18,
     "metadata": {},
     "output_type": "execute_result"
    }
   ],
   "source": [
    "moyenne_lnx = sum(lnx)/len(lnx)\n",
    "moyenne_lny = sum(lny)/len(lny)\n",
    "xi_moins_xbar = [x - moyenne_lnx for x in lnx]\n",
    "xi_moins_xbar_carre = [x**2 for x in xi_moins_xbar]\n",
    "yi_moins_ybar = [y - moyenne_lny for y in lny]\n",
    "numerateur = [x*y for x, y in zip(xi_moins_xbar, yi_moins_ybar)]\n",
    "a = sum(numerateur)/sum(xi_moins_xbar_carre)\n",
    "a"
   ]
  },
  {
   "cell_type": "code",
   "execution_count": 22,
   "id": "conditional-prophet",
   "metadata": {},
   "outputs": [
    {
     "name": "stdout",
     "output_type": "stream",
     "text": [
      "[2, 202, 402, 602, 802, 1002, 1202, 1402, 1602, 1802, 2002, 2202, 2402, 2602, 2802, 3002, 3202, 3402, 3602, 3802, 4002, 4202, 4402, 4602, 4802, 5002, 5202, 5402, 5602, 5802, 6002, 6202, 6402, 6602, 6802, 7002, 7202, 7402, 7602, 7802, 8002, 8202, 8402, 8602, 8802, 9002, 9202, 9402, 9602, 9802, 10002] \n",
      "\n",
      "\n",
      " [2.0019999998055484e-06, 0.004378737999999629, 0.021115337999999186, 0.04905122200000008, 0.1044921619999998, 0.1388381860000001, 0.18135880600000065, 0.250698182000001, 0.34432572199999895, 0.4410495920000008, 0.5781514220000011, 0.6309949659999967, 0.7363373180000008, 0.9461655619999982, 1.2684032060000014, 1.2378992280000012, 1.4473832000000038, 1.6336376160000077, 1.8007355500000086, 1.933183274000005, 2.1344073299999966, 2.3923009320000004, 2.677967630000003, 2.8875891639999964, 3.1689024499999823, 3.412476433999996, 3.833430547999997, 3.9890259560000003, 4.264966955999958, 4.612119614000003, 4.958134340000006, 5.221856583999961, 5.794793441999982, 6.2006018900000255, 6.362090580000013, 6.791497173999987, 9.80796376600003, 8.601523607999988, 8.95780723599999, 8.718850619999957, 9.353409979999979, 11.794087994000057, 10.261499401999991, 10.528020100000031, 11.304722055999864, 11.808078840000016, 12.48148086399986, 13.1027527740004, 13.392783532000067, 14.096546341999929, 14.63248660200028]\n"
     ]
    }
   ],
   "source": [
    "print(list(range(2, 10003,200)),\"\\n\\n\\n\",bubble_time_list)"
   ]
  },
  {
   "cell_type": "markdown",
   "id": "extended-tournament",
   "metadata": {},
   "source": [
    "# Algorithme 2: Insertion Sort"
   ]
  },
  {
   "cell_type": "code",
   "execution_count": null,
   "id": "signal-california",
   "metadata": {},
   "outputs": [],
   "source": []
  },
  {
   "cell_type": "code",
   "execution_count": null,
   "id": "cubic-system",
   "metadata": {},
   "outputs": [],
   "source": [
    "def insertionSort(array):\n",
    "    \"\"\"\"Sort array using Insertion Sort\"\"\"\n",
    "    arr = list(array)\n",
    "    for i in range(1, len(arr)):\n",
    "        key = arr[i]\n",
    "        j = i-1\n",
    "        while j >=0 and key < arr[j] :\n",
    "                arr[j+1] = arr[j]\n",
    "                j -= 1\n",
    "        arr[j+1] = key\n",
    "    return arr"
   ]
  },
  {
   "cell_type": "markdown",
   "id": "essential-siemens",
   "metadata": {},
   "source": [
    "<img src=\"insertion_sort.gif\" width=\"400px\" height=\"100px\">"
   ]
  },
  {
   "cell_type": "code",
   "execution_count": null,
   "id": "major-biotechnology",
   "metadata": {},
   "outputs": [],
   "source": [
    "liste_de_nombres = [79,2,3600,1500,200,68]\n",
    "insertionSort(liste_de_nombres)"
   ]
  },
  {
   "cell_type": "markdown",
   "id": "aerial-straight",
   "metadata": {},
   "source": [
    "# Algorithme 4: Bogo Sort"
   ]
  },
  {
   "cell_type": "code",
   "execution_count": null,
   "id": "sustainable-leader",
   "metadata": {},
   "outputs": [],
   "source": [
    "def bogoSort(array):\n",
    "    \"\"\"Sort arr using Bogo Sort\"\"\"\n",
    "    arr = list(array)\n",
    "    from random import randint\n",
    "    def is_sorted(a):\n",
    "        n = len(a)\n",
    "        for i in range(0, n-1):\n",
    "            if (a[i] > a[i+1] ):\n",
    "                return False\n",
    "        return True\n",
    "    def shuffle(a):\n",
    "        n = len(a)\n",
    "        for i in range (0,n):\n",
    "            r = randint(0,n-1)\n",
    "            a[i], a[r] = a[r], a[i]\n",
    "    n = len(arr)\n",
    "    while (is_sorted(arr)== False):\n",
    "        shuffle(arr)\n",
    "    return arr"
   ]
  },
  {
   "cell_type": "markdown",
   "id": "white-pencil",
   "metadata": {},
   "source": [
    "<img src=\"bogosort.gif\" width=\"400px\" height=\"100px\">"
   ]
  },
  {
   "cell_type": "code",
   "execution_count": null,
   "id": "sensitive-labor",
   "metadata": {},
   "outputs": [],
   "source": [
    "liste_de_noms = [\"jamy\",\"fred\",\"sabine\",\"marcel\"]\n",
    "bogoSort(liste_de_noms)"
   ]
  },
  {
   "cell_type": "markdown",
   "id": "compact-senior",
   "metadata": {},
   "source": [
    "# Graphe des temps d'execution:\n",
    "  \n",
    "Nous executons et chronometrons 3 des 4 algorithmes:\n",
    "\n",
    "  *      Quick Sort\n",
    "  *      Insertion Sort\n",
    "  *      Bubble Sort"
   ]
  },
  {
   "cell_type": "code",
   "execution_count": null,
   "id": "realistic-practitioner",
   "metadata": {
    "scrolled": false
   },
   "outputs": [],
   "source": [
    "from numpy import float64\n",
    "from time import perf_counter as now\n",
    "from json import loads\n",
    "from sys import setrecursionlimit\n",
    "setrecursionlimit(10**6)\n",
    "\n",
    "with open(\"numbers.json\",\"r\") as d:\n",
    "    data = loads(d.read())\n",
    "\n",
    "quick_time_list = []\n",
    "insertion_time_list = []\n",
    "bubble_time_list = []\n",
    "\n",
    "for i in range(2, 5002):\n",
    "    subdata = data[:i]\n",
    "    print(i, end=\" | \")\n",
    "    \n",
    "    quick_time_start = float64(now())\n",
    "    quickSort(subdata)\n",
    "    quick_time_end = float64(now())\n",
    "    quick_execution_time = quick_time_end - quick_time_start\n",
    "    quick_time_list.append(quick_execution_time)\n",
    "    \n",
    "    insertion_time_start = float64(now())\n",
    "    insertionSort(subdata)\n",
    "    insertion_time_end = float64(now())\n",
    "    insertion_execution_time = insertion_time_end - insertion_time_start\n",
    "    insertion_time_list.append(insertion_execution_time)\n",
    "    \n",
    "    bubble_time_start = float64(now())\n",
    "    bubbleSort(subdata)\n",
    "    bubble_time_end = float64(now())\n",
    "    bubble_execution_time = bubble_time_end - bubble_time_start\n",
    "    bubble_time_list.append(bubble_execution_time)\n",
    "    \n",
    "import matplotlib.pyplot as plt\n",
    "plt.scatter(range(2, 5002), quick_time_list,label=\"quick\", marker='o',color=\"blue\", s=10)\n",
    "plt.scatter(range(2, 5002), bubble_time_list, marker='o', label=\"bubble\", color=\"red\", s=10)\n",
    "plt.scatter(range(2, 5002), insertion_time_list, marker='o', label=\"insertion\", color='black', s=10)\n",
    "plt.xlabel(\"list length\")\n",
    "plt.ylabel(\"time\")\n",
    "plt.legend()\n",
    "plt.show()\n",
    "plt.rcParams['figure.figsize'] = [120, 70]\n",
    "plt.show()"
   ]
  },
  {
   "cell_type": "markdown",
   "id": "dated-booking",
   "metadata": {},
   "source": [
    "Sur la figure ci-contre:<br>\n",
    "des points d'abcisse L (longueur de la liste {2,5002}) et d'ordonnée T (temps d'execution de l'agorithme de tri).\n",
    "<br>&nbsp;&nbsp;&nbsp;&nbsp;&nbsp;&nbsp;&nbsp;&nbsp;&nbsp;&nbsp;Bubble Sort &nbsp;&nbsp;&nbsp;&nbsp;&nbsp;<b style=\"color:red;\">•</b>\n",
    "&nbsp;&nbsp;&nbsp;&nbsp;&nbsp;&nbsp;&nbsp;&nbsp;&nbsp;&nbsp;Insertion Sort &nbsp;&nbsp;&nbsp;&nbsp;&nbsp;<b style=\"color:black;\">•</b>\n",
    "&nbsp;&nbsp;&nbsp;&nbsp;&nbsp;&nbsp;&nbsp;&nbsp;&nbsp;&nbsp;Quick Sort &nbsp;&nbsp;&nbsp;&nbsp;&nbsp;<b style=\"color:blue;\">•</b>\n",
    "<br><br> On remarque la presence de courbes principales et de points dispersés ça et là; le chronometrage est une mesure\n",
    "peu exacte, nous nous contenterons d'etudier les points les plus proches de la courbe.<br> Les valeurs importent peu, leur evolution est l'objectif de notre etude.<br><br>\n",
    "C'est pour cela qu nous utiliserons des abcisses plus eloignés (limiter la marge d'erreur (de 2 à 50000))"
   ]
  },
  {
   "cell_type": "code",
   "execution_count": null,
   "id": "provincial-research",
   "metadata": {},
   "outputs": [],
   "source": [
    "from numpy import float64\n",
    "from time import perf_counter as now\n",
    "from json import loads\n",
    "from sys import setrecursionlimit\n",
    "setrecursionlimit(10**6)\n",
    "\n",
    "with open(\"numbers.json\",\"r\") as d:\n",
    "    data = loads(d.read())\n",
    "\n",
    "quick_time_list = []\n",
    "insertion_time_list = []\n",
    "bubble_time_list = []\n",
    "\n",
    "for i in range(2, 50000,5000):\n",
    "    subdata = data[:i]\n",
    "    print(i, end=\" | \")\n",
    "    \n",
    "    quick_time_start = float64(now())\n",
    "    quickSort(subdata)\n",
    "    quick_time_end = float64(now())\n",
    "    quick_execution_time = quick_time_end - quick_time_start\n",
    "    quick_time_list.append(quick_execution_time)\n",
    "    \n",
    "    insertion_time_start = float64(now())\n",
    "    insertionSort(subdata)\n",
    "    insertion_time_end = float64(now())\n",
    "    insertion_execution_time = insertion_time_end - insertion_time_start\n",
    "    insertion_time_list.append(insertion_execution_time)\n",
    "    \n",
    "    bubble_time_start = float64(now())\n",
    "    bubbleSort(subdata)\n",
    "    bubble_time_end = float64(now())\n",
    "    bubble_execution_time = bubble_time_end - bubble_time_start\n",
    "    bubble_time_list.append(bubble_execution_time)\n",
    "    \n",
    "import matplotlib.pyplot as plt\n",
    "plt.scatter(range(2, 50000,5000), quick_time_list,label=\"quick\", marker='o',color=\"blue\", s=1000)\n",
    "plt.scatter(range(2, 50000, 5000), bubble_time_list, marker='o', label=\"bubble\", color=\"red\", s=1000)\n",
    "plt.scatter(range(2, 50000, 5000), insertion_time_list, marker='o', label=\"insertion\", color='black', s=1000)\n",
    "plt.xlabel(\"list length\")\n",
    "plt.ylabel(\"time\")\n",
    "plt.legend()\n",
    "plt.rcParams['figure.figsize'] = [120, 70]\n",
    "plt.show()"
   ]
  },
  {
   "cell_type": "markdown",
   "id": "hybrid-herald",
   "metadata": {},
   "source": [
    "Bubble Sort &nbsp;&nbsp;&nbsp;&nbsp;&nbsp;<b style=\"color:red;\">•</b>\n",
    "&nbsp;&nbsp;&nbsp;&nbsp;&nbsp;&nbsp;&nbsp;&nbsp;&nbsp;&nbsp;Insertion Sort &nbsp;&nbsp;&nbsp;&nbsp;&nbsp;<b style=\"color:black;\">•</b>\n",
    "&nbsp;&nbsp;&nbsp;&nbsp;&nbsp;&nbsp;&nbsp;&nbsp;&nbsp;&nbsp;Quick Sort &nbsp;&nbsp;&nbsp;&nbsp;&nbsp;<b style=\"color:blue;\">•</b><br>Le tableau ci-dessous regroupe ces valeurs."
   ]
  },
  {
   "cell_type": "code",
   "execution_count": null,
   "id": "liable-gossip",
   "metadata": {},
   "outputs": [],
   "source": [
    "from pandas import Series, DataFrame, concat\n",
    "q = DataFrame(quick_time_list, index=range(2, 50000, 5000))\n",
    "b = DataFrame(bubble_time_list, index=range(2, 50000, 5000))\n",
    "I = DataFrame(insertion_time_list, index=range(2, 50000, 5000))\n",
    "a = concat([q,b,I], axis=1)\n",
    "a.columns=[\"Quick Sort\",\"Bubble Sort\",\"Insertion Sort\"]\n",
    "a"
   ]
  },
  {
   "cell_type": "markdown",
   "id": "interior-hayes",
   "metadata": {},
   "source": [
    "# Definir l'expression des courbes\n",
    "## Definir l'expression des derivees\n",
    ">   \n",
    "La derivee de la fonction de la courbe $C_{bubble}$ est la fonction qui pour chaque abcisse *x*, associe *y*  \n",
    "le coefficient directeur de $C_{bubble}$ au point *(x,y)*  \n",
    "Tracons les tangentes en chaque point *p*  \n",
    "    Pour tracer la tangente en un point  ***p***  a la courbe ***C***, on calcule le coefficient directeur de la droite passant par les points ***p-1*** et ***p+1*** (points adjacents sur la courbe).  \n",
    "    Cette tangente est de la forme ***ax+b= y***  ou  ***a = $\\frac{y_{p+1}-y_{p-1}}{x_{p+1}-x_{p-1}}$***"
   ]
  },
  {
   "cell_type": "code",
   "execution_count": null,
   "id": "underlying-bosnia",
   "metadata": {},
   "outputs": [],
   "source": [
    "plt.plot([35002, 45002],[float64(152.822460-12.3),float64(271.214856-12.3)], linewidth=10)\n",
    "plt.plot([35002, 45002],[float64(45.489762-1.8),float64(72.818693-1.8)], linewidth=10)\n",
    "plt.scatter(range(2, 50000,5000), quick_time_list,label=\"quick\", marker='o',color=\"blue\", s=1000)\n",
    "plt.scatter(range(2, 50000, 5000), bubble_time_list, marker='o', label=\"bubble\", color=\"red\", s=1000)\n",
    "plt.scatter(range(2, 50000, 5000), insertion_time_list, marker='o', label=\"insertion\", color='black', s=1000)\n",
    "plt.xlabel(\"list length\")\n",
    "plt.ylabel(\"time\")\n",
    "plt.legend()\n",
    "plt.rcParams['figure.figsize'] = [120, 70]\n",
    "plt.show()"
   ]
  },
  {
   "cell_type": "markdown",
   "id": "overall-present",
   "metadata": {},
   "source": [
    "Nous remplissons les tableaux suivants; en utilisant l'approximation ci-dessous:  \n",
    "exemple QuickSort pour x=5002:\n",
    "\n",
    "> *f'* (5002)≈ $\\frac{f(10002)-f(2)}{10002-2}$\n",
    "  \n",
    "  <br><br><br>\n",
    "Quick Sort\n",
    "\n",
    "|x     |  f(x)=y  |  f'(x)    |\n",
    "| :--- |   :---:  |  :---:    |\n",
    "| 2    | 0.000018 |  -----    |\n",
    "| 5002 | 0.042743 |4.6692E-6  |\n",
    "| 10002| 0.046710 |-3.6099E-6 |\n",
    "| 15002| 0.391331 |-3.66736E-5|\n",
    "| 20002| 0.100364 |\n",
    "| 25002| 0.128250 |\n",
    "| 30002| 0.154332 |\n",
    "| 35002| 0.181586 |\n",
    "| 40002| 0.266142 |\n",
    "| 45002| 0.303592 |   -----   |\n",
    "\n",
    "\n",
    "\n",
    "\n",
    "Bubble Sort\n",
    "\n",
    "|x      |  f(x)=y  | f'(x)       |\n",
    "| :---  |   :---:  | :---:       |\n",
    "| 2     | 0.000006 | -----       |\n",
    "| 5002  | 4.967089 | 0.0013705077|\n",
    "| 10002 | 13.705083| 0.0026634329|\n",
    "| 15002 | 31.601418| 0.0036843696|\n",
    "| 20002 | 50.548779| 0.0045667933|\n",
    "| 25002 | 77.269351| 0.0061639299|\n",
    "| 30002 |112.188078| 0.0075553109|\n",
    "| 35002 |152.822460| 0.0087606162|\n",
    "| 40002 |199.794240| 0.0118392396|\n",
    "| 45002 |271.214856| ----- |\n",
    "\n",
    "Insertion Sort\n",
    "\n",
    "|x      | y       | f'(x) |\n",
    "| :---  |   :---: | :---: |\n",
    "| 2     |0.000006 | ----- |\n",
    "| 5002  |1.930441 |\n",
    "| 10002 |5.089626 |\n",
    "| 15002 |8.817992 |\n",
    "| 20002 |14.631031|\n",
    "| 25002 |22.564628|\n",
    "| 30002 |32.565380|\n",
    "| 35002 |45.695084|\n",
    "| 40002 |57.489762|\n",
    "| 45002 |72.818693| ----- |\n",
    "\n"
   ]
  },
  {
   "cell_type": "markdown",
   "id": "binding-arrangement",
   "metadata": {},
   "source": [
    "### Prediction BubbleSort\n",
    "> dans un premier temps nous etudierons l'evolution du temps d'execution de l'algorithme BubbleSort.\n",
    "Pour cela nous utilisons les valeurs de *f'(x)* du tableau ci-dessus."
   ]
  },
  {
   "cell_type": "code",
   "execution_count": null,
   "id": "informational-guest",
   "metadata": {},
   "outputs": [],
   "source": [
    "derivee_bubble=[\n",
    "0.0013705077,\n",
    "0.0026634329,\n",
    "0.0036843696,\n",
    "0.0045667933,\n",
    "0.0061639299,\n",
    "0.0075553109,\n",
    "0.0087606162,\n",
    "0.0118392396]\n",
    "#0.0118392396\n",
    "\n",
    "x_derivee_bubble = [\n",
    "5002 ,\n",
    "10002,\n",
    "15002,\n",
    "20002,\n",
    "25002,\n",
    "30002,\n",
    "35002,\n",
    "40002]\n",
    "#40002\n",
    "plt.plot([5002,35002],[0.0013705077,0.0087606162], linewidth=5, color='red')\n",
    "\n",
    "plt.scatter(x_derivee_bubble,derivee_bubble,marker='o', s=1500)\n",
    "plt.show()"
   ]
  },
  {
   "cell_type": "markdown",
   "id": "passing-raise",
   "metadata": {},
   "source": [
    "En placant sur un graphe les differentes valeurs de *f'(x)* (Bubble Sort); on remarque que les points semblent se distribuer autour d'une droite.  \n",
    "On peut alors dire que f'(x) est une fonction affine qui peut s'ecrire sous la forme *ax+b*.  \n",
    "\n",
    "La droite passant par le point (5002, 0.0013705077) et le point (35002, 0.0087606162) est la meilleure approximation.\n",
    "\n",
    "*a* est le coefficient directeur de cette droite:\n",
    "\n",
    "> a ≈ $\\frac{0.018392396  -  0.0013705077}{40002  -  5002}$ = 2.991169229e-07  \n",
    "*b* est l'ordonnee du point d'abcisse 0 qui appartient a cette droite (point d'intersection de la droite avec l'axe des ordonnees).  \n",
    "a ≈ $\\frac{0.0013705077 - b}{5002 - 0}$  ==>  b ≈ 0.0013705077 - (a * 5002) ≈ 1.25675148e-4\n",
    "  \n",
    "<br><br>  \n",
    "*f'(x)* ≈ 2.1114595714285714e-07*x* + 1.25675148e-4\n",
    "\n",
    "Quelle fonction a pour derive f'(x)=2.1114595714285714e-07*x* + 1.25675148e-4 ;\n",
    "ou plus generalement, quelle fonction a pour derive ax + b ?\n",
    "\n",
    "hypothese:  \n",
    "     ($\\frac{1}{2}$x^2)' =  x  \n",
    "     k' = kx  \n",
    "     donc par identification: *f(x)* = 1.495584615e-7*x^2* + 1.25675148e-4*x* + C\n",
    "     \n",
    "     \n",
    "exemple:\n",
    "    f(22000) = 75.151149"
   ]
  },
  {
   "cell_type": "code",
   "execution_count": null,
   "id": "constant-festival",
   "metadata": {},
   "outputs": [],
   "source": [
    "from numpy import float64\n",
    "from time import perf_counter as now\n",
    "from json import loads\n",
    "from sys import setrecursionlimit\n",
    "setrecursionlimit(10**6)\n",
    "\n",
    "with open(\"numbers.json\",\"r\") as d:\n",
    "    data = loads(d.read())\n",
    "b = float64(now())\n",
    "bubbleSort(data[:22000])\n",
    "b2 = float64(now())\n",
    "t = b2 - b\n",
    "t"
   ]
  },
  {
   "cell_type": "markdown",
   "id": "approved-bowling",
   "metadata": {},
   "source": [
    "La marge d'erreur est de ((77.9425115050035 - 75.151149)/77.9425115050035) * 100 = 2.565993784%"
   ]
  }
 ],
 "metadata": {
  "kernelspec": {
   "display_name": "Python 3",
   "language": "python",
   "name": "python3"
  },
  "language_info": {
   "codemirror_mode": {
    "name": "ipython",
    "version": 3
   },
   "file_extension": ".py",
   "mimetype": "text/x-python",
   "name": "python",
   "nbconvert_exporter": "python",
   "pygments_lexer": "ipython3",
   "version": "3.8.7"
  }
 },
 "nbformat": 4,
 "nbformat_minor": 5
}
