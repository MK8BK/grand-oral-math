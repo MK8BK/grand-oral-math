{
 "cells": [
  {
   "cell_type": "markdown",
   "id": "third-heart",
   "metadata": {},
   "source": [
    "# Grand Oral de Mathematique:"
   ]
  },
  {
   "cell_type": "markdown",
   "id": "apparent-partition",
   "metadata": {},
   "source": [
    "<pre><b>Comment évaluer l'efficacité d'un algorithme ?</b></pre><pre><b>Introduction:</b><pre>Plusieurs algorithmes nous permettent d'effectuer le meme traitement de l'information; neanmoins certains sont plus efficaces que d'autres suivant la quantite de donnees a traiter.</pre></pre><pre><b>Etude de cas:</b><pre>Nous cherchons à verifier la présence d'un nom dans une liste de noms.<br>Nous considérons deux algorithmes similaires: <ul><li>Algo 1: recherche linéaire</li><li>Algo 2: recherche binaire avec pretraitement(tri)</li></ul></pre></pre>"
   ]
  },
  {
   "cell_type": "markdown",
   "id": "invalid-surveillance",
   "metadata": {},
   "source": [
    "# algorithme 1: Recherche Linéaire"
   ]
  },
  {
   "cell_type": "code",
   "execution_count": 1,
   "id": "focused-yugoslavia",
   "metadata": {},
   "outputs": [],
   "source": [
    "def algo1(array, value):\n",
    "    for element in array:\n",
    "        if element == value:\n",
    "            return True\n",
    "        else:\n",
    "            continue\n",
    "    return False"
   ]
  },
  {
   "cell_type": "markdown",
   "id": "neural-demand",
   "metadata": {},
   "source": [
    "# algorithme 2: Recherche Binaire avec Pretraitement"
   ]
  },
  {
   "cell_type": "code",
   "execution_count": 2,
   "id": "classical-venture",
   "metadata": {},
   "outputs": [],
   "source": [
    "def algo2(array,value):\n",
    "\n",
    "    def quickSort(arr):\n",
    "        \"\"\"Sort arr by using quicksort.\"\"\"\n",
    "        less = []\n",
    "        equal = []\n",
    "        greater = []\n",
    "\n",
    "        if len(arr) > 1:\n",
    "            pivot = arr[0]\n",
    "            for x in arr:\n",
    "                if x < pivot:\n",
    "                    less.append(x)\n",
    "                elif x == pivot:\n",
    "                    equal.append(x)\n",
    "                elif x > pivot:\n",
    "                    greater.append(x)\n",
    "            return quickSort(less)+equal+quickSort(greater)\n",
    "        else:\n",
    "            return arr\n",
    "\n",
    "    def binary_search(arr, val):\n",
    "        \"Search val through a sorted arr\"\n",
    "        low = 0\n",
    "        high = len(arr) - 1\n",
    "        mid = 0\n",
    "\n",
    "        while low <= high:\n",
    "\n",
    "            mid = (high + low) // 2\n",
    "\n",
    "            if arr[mid] < val:\n",
    "                low = mid + 1\n",
    "\n",
    "            elif arr[mid] > val:\n",
    "                high = mid - 1\n",
    "\n",
    "            else:\n",
    "                return True\n",
    "\n",
    "        return False\n",
    "\n",
    "    return binary_search(quickSort(array), value)"
   ]
  },
  {
   "cell_type": "markdown",
   "id": "forbidden-internship",
   "metadata": {},
   "source": [
    "Les deux algorithmes effectuent le meme travail (test ci-dessous)"
   ]
  },
  {
   "cell_type": "code",
   "execution_count": 3,
   "id": "composite-gabriel",
   "metadata": {},
   "outputs": [
    {
     "name": "stdout",
     "output_type": "stream",
     "text": [
      "True\n",
      "True\n"
     ]
    }
   ],
   "source": [
    "liste_de_noms = [\"jamy\",\"fred\",\"sabine\",\"marcel\"]\n",
    "nom_a_chercher = \"sabine\"\n",
    "print(algo1(liste_de_noms, nom_a_chercher))\n",
    "print(algo2(liste_de_noms, nom_a_chercher))"
   ]
  },
  {
   "cell_type": "markdown",
   "id": "considered-table",
   "metadata": {},
   "source": [
    "Utilisons une liste contenant 164457 prénoms:"
   ]
  },
  {
   "cell_type": "code",
   "execution_count": 4,
   "id": "vocal-salad",
   "metadata": {},
   "outputs": [],
   "source": [
    "with open(\"prenoms.txt\",\"r\",encoding=\"utf8\") as d:\n",
    "    data = d.readlines()\n",
    "    for i,line in enumerate(data):\n",
    "        data[i]=line[:-1]\n",
    "\n",
    "surname = \"sabine\"\n",
    "\n"
   ]
  },
  {
   "cell_type": "markdown",
   "id": "grateful-airplane",
   "metadata": {},
   "source": [
    "<b>Test algorithme 1: recherche linéaire</b><br>Chronometrons le temps d'execution de cette algorithme sur la liste de 164457 prénoms:"
   ]
  },
  {
   "cell_type": "code",
   "execution_count": 5,
   "id": "statutory-nylon",
   "metadata": {},
   "outputs": [
    {
     "name": "stdout",
     "output_type": "stream",
     "text": [
      "True\n",
      "0.004950199999999683\n"
     ]
    }
   ],
   "source": [
    "from numpy import float64\n",
    "from time import perf_counter as now\n",
    "time_start = float64(now())\n",
    "\n",
    "print(algo1(data, surname))\n",
    "\n",
    "time_end = float64(now())\n",
    "execution_time = time_end - time_start\n",
    "print(execution_time)"
   ]
  },
  {
   "cell_type": "markdown",
   "id": "modular-impression",
   "metadata": {},
   "source": [
    "<b>Test algorithme 2: Recherche avec pretraitement</b><br>Pour l'algorithme 2, nous nous permettrons de decomposer la fonction en 2 parties:<br><ol><li>Pretraitement (tri effectué avant l'operation de recherche - effectué en periodes de maintenance)</li><li>Recherche Binaire</li></ol>Nous ne chronometrons que la partie de Recherche (car la partie de pretraitement ne s'effectue qu'une seule fois)"
   ]
  },
  {
   "cell_type": "markdown",
   "id": "educated-dividend",
   "metadata": {},
   "source": [
    "<b>Pretraitement:</b>"
   ]
  },
  {
   "cell_type": "code",
   "execution_count": 6,
   "id": "female-shelf",
   "metadata": {},
   "outputs": [],
   "source": [
    "def quickSort(arr):\n",
    "    \"\"\"Sort arr by using quicksort.\"\"\"\n",
    "    less = []\n",
    "    equal = []\n",
    "    greater = []\n",
    "\n",
    "    if len(arr) > 1:\n",
    "        pivot = arr[0]\n",
    "        for x in arr:\n",
    "            if x < pivot:\n",
    "                less.append(x)\n",
    "            elif x == pivot:\n",
    "                equal.append(x)\n",
    "            elif x > pivot:\n",
    "                greater.append(x)\n",
    "        return quickSort(less)+equal+quickSort(greater)\n",
    "    else:\n",
    "        return arr"
   ]
  },
  {
   "cell_type": "markdown",
   "id": "skilled-alpha",
   "metadata": {},
   "source": [
    "<b>Recherche Binaire:</b>"
   ]
  },
  {
   "cell_type": "code",
   "execution_count": 7,
   "id": "confidential-edgar",
   "metadata": {},
   "outputs": [],
   "source": [
    "def binary_search(arr, val):\n",
    "    \"Search val through a sorted arr\"\n",
    "    low = 0\n",
    "    high = len(arr) - 1\n",
    "    mid = 0\n",
    "\n",
    "    while low <= high:\n",
    "\n",
    "        mid = (high + low) // 2\n",
    "\n",
    "        if arr[mid] < val:\n",
    "            low = mid + 1\n",
    "\n",
    "        elif arr[mid] > val:\n",
    "            high = mid - 1\n",
    "\n",
    "        else:\n",
    "            return True\n",
    "\n",
    "    return False"
   ]
  },
  {
   "cell_type": "markdown",
   "id": "metropolitan-prophet",
   "metadata": {},
   "source": [
    "<b>Test Algorithme 2: Recherche Binaire </b>"
   ]
  },
  {
   "cell_type": "code",
   "execution_count": 8,
   "id": "generous-raleigh",
   "metadata": {
    "scrolled": false
   },
   "outputs": [
    {
     "name": "stdout",
     "output_type": "stream",
     "text": [
      "True\n",
      "0.00029290000000159466\n"
     ]
    }
   ],
   "source": [
    "data = quickSort(data)\n",
    "from time import perf_counter as now\n",
    "time_start = now()\n",
    "\n",
    "print(binary_search(data,surname))\n",
    "\n",
    "time_end = now()\n",
    "execution_time = time_end - time_start\n",
    "print(execution_time)"
   ]
  },
  {
   "cell_type": "markdown",
   "id": "loaded-recycling",
   "metadata": {},
   "source": [
    "# Graphe du temps d'execution"
   ]
  },
  {
   "cell_type": "code",
   "execution_count": 9,
   "id": "demographic-saskatchewan",
   "metadata": {
    "scrolled": true
   },
   "outputs": [
    {
     "ename": "KeyboardInterrupt",
     "evalue": "",
     "output_type": "error",
     "traceback": [
      "\u001b[1;31m---------------------------------------------------------------------------\u001b[0m",
      "\u001b[1;31mKeyboardInterrupt\u001b[0m                         Traceback (most recent call last)",
      "\u001b[1;32m<ipython-input-9-2aed20b44081>\u001b[0m in \u001b[0;36m<module>\u001b[1;34m\u001b[0m\n\u001b[0;32m      6\u001b[0m         \u001b[0mtime_start\u001b[0m \u001b[1;33m=\u001b[0m \u001b[0mnow\u001b[0m\u001b[1;33m(\u001b[0m\u001b[1;33m)\u001b[0m\u001b[1;33m\u001b[0m\u001b[1;33m\u001b[0m\u001b[0m\n\u001b[0;32m      7\u001b[0m         \u001b[0malgo1\u001b[0m\u001b[1;33m(\u001b[0m\u001b[0mdata\u001b[0m\u001b[1;33m,\u001b[0m\u001b[0melement\u001b[0m\u001b[1;33m)\u001b[0m\u001b[1;33m\u001b[0m\u001b[1;33m\u001b[0m\u001b[0m\n\u001b[1;32m----> 8\u001b[1;33m         \u001b[0mtime_end\u001b[0m \u001b[1;33m=\u001b[0m \u001b[0mnow\u001b[0m\u001b[1;33m(\u001b[0m\u001b[1;33m)\u001b[0m\u001b[1;33m\u001b[0m\u001b[1;33m\u001b[0m\u001b[0m\n\u001b[0m\u001b[0;32m      9\u001b[0m         \u001b[0mexecution_time\u001b[0m \u001b[1;33m=\u001b[0m \u001b[0mtime_end\u001b[0m \u001b[1;33m-\u001b[0m \u001b[0mtime_start\u001b[0m\u001b[1;33m\u001b[0m\u001b[1;33m\u001b[0m\u001b[0m\n\u001b[0;32m     10\u001b[0m         \u001b[0ml1\u001b[0m\u001b[1;33m.\u001b[0m\u001b[0mappend\u001b[0m\u001b[1;33m(\u001b[0m\u001b[0mexecution_time\u001b[0m\u001b[1;33m)\u001b[0m\u001b[1;33m\u001b[0m\u001b[1;33m\u001b[0m\u001b[0m\n",
      "\u001b[1;31mKeyboardInterrupt\u001b[0m: "
     ]
    }
   ],
   "source": [
    "ys = []\n",
    "for i in range(len(data)):\n",
    "    dat = data[:i]\n",
    "    l1 = []\n",
    "    for element in dat:        \n",
    "        time_start = now()\n",
    "        algo1(data,element)\n",
    "        time_end = now()\n",
    "        execution_time = time_end - time_start\n",
    "        l1.append(execution_time)\n",
    "    if sum(l1) > 0:\n",
    "        ys.append(len(l1)/sum(l1))"
   ]
  },
  {
   "cell_type": "code",
   "execution_count": null,
   "id": "thorough-martial",
   "metadata": {},
   "outputs": [],
   "source": [
    "ys"
   ]
  }
 ],
 "metadata": {
  "kernelspec": {
   "display_name": "Python 3",
   "language": "python",
   "name": "python3"
  },
  "language_info": {
   "codemirror_mode": {
    "name": "ipython",
    "version": 3
   },
   "file_extension": ".py",
   "mimetype": "text/x-python",
   "name": "python",
   "nbconvert_exporter": "python",
   "pygments_lexer": "ipython3",
   "version": "3.8.7"
  }
 },
 "nbformat": 4,
 "nbformat_minor": 5
}
