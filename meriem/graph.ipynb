{
 "cells": [
  {
   "cell_type": "code",
   "execution_count": 3,
   "id": "1d20dd90",
   "metadata": {},
   "outputs": [
    {
     "data": {
      "text/plain": [
       "[1, 2, 3, 4, 5, 6, 7, 8]"
      ]
     },
     "execution_count": 3,
     "metadata": {},
     "output_type": "execute_result"
    }
   ],
   "source": [
    "semaines = list(range(1,9))\n",
    "semaines"
   ]
  },
  {
   "cell_type": "code",
   "execution_count": 4,
   "id": "85d0a040",
   "metadata": {},
   "outputs": [
    {
     "data": {
      "text/plain": [
       "[50659, 84999, 38045, 34318, 26538, 21712, 19461, 15831]"
      ]
     },
     "execution_count": 4,
     "metadata": {},
     "output_type": "execute_result"
    }
   ],
   "source": [
    "nombres_de_nouveaux_cas = [50659, 84999, 38045, 34318, 26538, 21712, 19461, 15831]\n",
    "nombres_de_nouveaux_cas"
   ]
  },
  {
   "cell_type": "code",
   "execution_count": 5,
   "id": "0de071ce",
   "metadata": {},
   "outputs": [
    {
     "data": {
      "image/png": "[encoded data removed]",
      "text/plain": [
       "<Figure size 432x288 with 1 Axes>"
      ]
     },
     "metadata": {
      "needs_background": "light"
     },
     "output_type": "display_data"
    }
   ],
   "source": [
    "import matplotlib.pyplot as plt\n",
    "\n",
    "plt.scatter(semaines, nombres_de_nouveaux_cas)\n",
    "plt.show()"
   ]
  }
 ],
 "metadata": {
  "kernelspec": {
   "display_name": "Python 3",
   "language": "python",
   "name": "python3"
  },
  "language_info": {
   "codemirror_mode": {
    "name": "ipython",
    "version": 3
   },
   "file_extension": ".py",
   "mimetype": "text/x-python",
   "name": "python",
   "nbconvert_exporter": "python",
   "pygments_lexer": "ipython3",
   "version": "3.8.9"
  }
 },
 "nbformat": 4,
 "nbformat_minor": 5
}
